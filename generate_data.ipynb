{
 "cells": [
  {
   "cell_type": "markdown",
   "metadata": {},
   "source": [
    "# Generate data"
   ]
  },
  {
   "cell_type": "code",
   "execution_count": 1,
   "metadata": {},
   "outputs": [],
   "source": [
    "import sys\n",
    "sys.path.append(\"./script/\")\n",
    "from LogicAsker import *\n"
   ]
  },
  {
   "cell_type": "markdown",
   "metadata": {},
   "source": [
    "## Generate 50 data for each tree node (208 total) on the skill tree"
   ]
  },
  {
   "cell_type": "code",
   "execution_count": 2,
   "metadata": {},
   "outputs": [
    {
     "data": {
      "application/vnd.jupyter.widget-view+json": {
       "model_id": "56436f56ffa3423cb8b0eaf1ce8d0cb2",
       "version_major": 2,
       "version_minor": 0
      },
      "text/plain": [
       "  0%|          | 0/208 [00:00<?, ?it/s]"
      ]
     },
     "metadata": {},
     "output_type": "display_data"
    }
   ],
   "source": [
    "\n",
    "problems = [\"inference\", \"contradiction\", \"unrelated\"]\n",
    "logics = [\"propositional\", \"predicate\"]\n",
    "rule_categories = [\"equivalent\", \"inference\", \"fallacy\"]\n",
    "cases = []\n",
    "rule_dict = {\"propositional equivalent\": lib.PROPOSITIONAL_EQUIV_RULES,\n",
    "             \"propositional inference\": lib.PROPOSITIONAL_INFERENCE_RULES,\n",
    "             \"propositional fallacy\": lib.PROPOSITIONAL_FALLACY_RULES,\n",
    "             \"predicate equivalent\": lib.QUANTIFIER_EQUIV_RULES,\n",
    "             \"predicate inference\": lib.QUANTIFIER_INFERENCE_RULES,\n",
    "             \"predicate fallacy\": lib.QUANTIFIER_FALLACY_RULES}\n",
    "\n",
    "from tqdm.auto import tqdm\n",
    "with tqdm(total=208) as pbar:\n",
    "    for logic in logics:\n",
    "        for rule_category in rule_categories:\n",
    "            for problem in problems:\n",
    "                rule_set = rule_dict[logic + \" \" + rule_category]\n",
    "                rule_names = list(set([x.rule_name for x in rule_set]))\n",
    "                for rule in rule_names:\n",
    "                    rules = get_rules([rule])\n",
    "                    if rule_category == \"fallacy\" and problem == \"inference\":\n",
    "                        tmp = gen_cases(50, \"3b\", problem, 1, fallacies=rules)\n",
    "                        cases += [[logic, rule_category, rule, problem, x[0], x[1]] for x in tmp]\n",
    "                        # print(f\"{logic} {rule_category} {rule} {problem}\")\n",
    "                        pbar.update(1)\n",
    "                    elif rule_category != \"fallacy\" :\n",
    "                        tmp = gen_cases(50, \"3b\", problem, 1, rules=rules)\n",
    "                        cases += [[logic, rule_category, rule, problem, x[0], x[1]] for x in tmp]\n",
    "                        # print(f\"{logic} {rule_category} {rule} {problem}\")\n",
    "                        pbar.update(1)\n",
    "\n",
    "# write cases into csv file\n",
    "import csv\n",
    "with open(\"./data_generated.csv\", \"w\", newline=\"\") as f:\n",
    "    writer = csv.writer(f)\n",
    "    writer.writerow([\"logic\", \"rule_category\", \"rule\", \"problem\", \"query\", \"answer\"])\n",
    "    writer.writerows(cases)"
   ]
  },
  {
   "cell_type": "markdown",
   "metadata": {},
   "source": [
    "## Generate 50 data of different lengths"
   ]
  },
  {
   "cell_type": "code",
   "execution_count": null,
   "metadata": {},
   "outputs": [],
   "source": [
    "import random\n",
    "for length in tqdm(range(1, 11)):\n",
    "    queries = []\n",
    "    # propositional\n",
    "    for i in range(41):\n",
    "        cat = random.choice([\"inference\", \"inference\", \"inference\", \"contradiction\", \"unrelated\"])\n",
    "        cases = gen_cases(1, \"3b\", cat, length, rules=lib.PROPOSITIONAL_EQUIV_RULES + lib.PROPOSITIONAL_INFERENCE_RULES)\n",
    "        queries += [[x[0], x[1]] for x in cases]\n",
    "    cases = gen_cases(9, \"3b\", \"inference\", length, rules=lib.PROPOSITIONAL_EQUIV_RULES + lib.PROPOSITIONAL_INFERENCE_RULES, fallacies=lib.PROPOSITIONAL_FALLACY_RULES)\n",
    "    queries += [[x[0], x[1]] for x in cases]\n",
    "\n",
    "    # predicate\n",
    "    for i in range(41):\n",
    "        cat = random.choice([\"inference\", \"inference\", \"inference\", \"contradiction\", \"unrelated\"])\n",
    "        cases = gen_cases(1, \"3b\", cat, length, rules=lib.QUANTIFIER_EQUIV_RULES + lib.QUANTIFIER_INFERENCE_RULES)\n",
    "        queries += [[x[0], x[1]] for x in cases]\n",
    "    cases = gen_cases(9, \"3b\", \"inference\", length, rules=lib.QUANTIFIER_EQUIV_RULES + lib.QUANTIFIER_INFERENCE_RULES, fallacies=lib.QUANTIFIER_FALLACY_RULES)\n",
    "    queries += [[x[0], x[1]] for x in cases]\n",
    "\n",
    "    queries = pd.DataFrame(queries).rename(columns={0:\"question\", 1:\"target\"})\n",
    "    queries.to_csv(f\"./exp_len_{length}.csv\", index=False)\n"
   ]
  }
 ],
 "metadata": {
  "kernelspec": {
   "display_name": "img2code",
   "language": "python",
   "name": "python3"
  },
  "language_info": {
   "codemirror_mode": {
    "name": "ipython",
    "version": 3
   },
   "file_extension": ".py",
   "mimetype": "text/x-python",
   "name": "python",
   "nbconvert_exporter": "python",
   "pygments_lexer": "ipython3",
   "version": "3.10.14"
  }
 },
 "nbformat": 4,
 "nbformat_minor": 2
}
